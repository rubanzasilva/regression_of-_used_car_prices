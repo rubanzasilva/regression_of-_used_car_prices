{
 "cells": [
  {
   "cell_type": "code",
   "execution_count": 1,
   "id": "065c2d9a",
   "metadata": {
    "_cell_guid": "b1076dfc-b9ad-4769-8c92-a6c4dae69d19",
    "_uuid": "8f2839f25d086af736a60e9eeb907d3b93b6e0e5",
    "execution": {
     "iopub.execute_input": "2024-09-24T16:58:49.503572Z",
     "iopub.status.busy": "2024-09-24T16:58:49.502911Z",
     "iopub.status.idle": "2024-09-24T16:58:50.547881Z",
     "shell.execute_reply": "2024-09-24T16:58:50.546614Z"
    },
    "papermill": {
     "duration": 1.059856,
     "end_time": "2024-09-24T16:58:50.551385",
     "exception": false,
     "start_time": "2024-09-24T16:58:49.491529",
     "status": "completed"
    },
    "tags": []
   },
   "outputs": [
    {
     "name": "stdout",
     "output_type": "stream",
     "text": [
      "/kaggle/input/playground-series-s4e9/sample_submission.csv\n",
      "/kaggle/input/playground-series-s4e9/train.csv\n",
      "/kaggle/input/playground-series-s4e9/test.csv\n"
     ]
    }
   ],
   "source": [
    "# This Python 3 environment comes with many helpful analytics libraries installed\n",
    "# It is defined by the kaggle/python Docker image: https://github.com/kaggle/docker-python\n",
    "# For example, here's several helpful packages to load\n",
    "\n",
    "import numpy as np # linear algebra\n",
    "import pandas as pd # data processing, CSV file I/O (e.g. pd.read_csv)\n",
    "\n",
    "# Input data files are available in the read-only \"../input/\" directory\n",
    "# For example, running this (by clicking run or pressing Shift+Enter) will list all files under the input directory\n",
    "\n",
    "import os\n",
    "for dirname, _, filenames in os.walk('/kaggle/input'):\n",
    "    for filename in filenames:\n",
    "        print(os.path.join(dirname, filename))\n",
    "\n",
    "# You can write up to 20GB to the current directory (/kaggle/working/) that gets preserved as output when you create a version using \"Save & Run All\" \n",
    "# You can also write temporary files to /kaggle/temp/, but they won't be saved outside of the current session"
   ]
  },
  {
   "cell_type": "code",
   "execution_count": 2,
   "id": "2c443997",
   "metadata": {
    "execution": {
     "iopub.execute_input": "2024-09-24T16:58:50.570966Z",
     "iopub.status.busy": "2024-09-24T16:58:50.569924Z",
     "iopub.status.idle": "2024-09-24T16:58:50.576022Z",
     "shell.execute_reply": "2024-09-24T16:58:50.574660Z"
    },
    "papermill": {
     "duration": 0.018279,
     "end_time": "2024-09-24T16:58:50.578664",
     "exception": false,
     "start_time": "2024-09-24T16:58:50.560385",
     "status": "completed"
    },
    "scrolled": true,
    "tags": []
   },
   "outputs": [],
   "source": [
    "#%pip install requests\n",
    "#%pip install tabulate\n",
    "#%pip install future\n",
    "\n",
    "# Required for plotting:\n",
    "#%pip install matplotlib\n",
    "\n",
    "#!sudo apt update\n",
    "#!sudo apt install openjdk-11-jdk"
   ]
  },
  {
   "cell_type": "code",
   "execution_count": 3,
   "id": "0b85c995",
   "metadata": {
    "execution": {
     "iopub.execute_input": "2024-09-24T16:58:50.596698Z",
     "iopub.status.busy": "2024-09-24T16:58:50.596277Z",
     "iopub.status.idle": "2024-09-24T16:59:58.952913Z",
     "shell.execute_reply": "2024-09-24T16:59:58.951191Z"
    },
    "papermill": {
     "duration": 68.369535,
     "end_time": "2024-09-24T16:59:58.956435",
     "exception": false,
     "start_time": "2024-09-24T16:58:50.586900",
     "status": "completed"
    },
    "tags": []
   },
   "outputs": [
    {
     "name": "stdout",
     "output_type": "stream",
     "text": [
      "Requirement already satisfied: h2o in /opt/conda/lib/python3.10/site-packages (3.46.0.4)\r\n",
      "Requirement already satisfied: requests in /opt/conda/lib/python3.10/site-packages (from h2o) (2.32.3)\r\n",
      "Requirement already satisfied: tabulate in /opt/conda/lib/python3.10/site-packages (from h2o) (0.9.0)\r\n",
      "Requirement already satisfied: charset-normalizer<4,>=2 in /opt/conda/lib/python3.10/site-packages (from requests->h2o) (3.3.2)\r\n",
      "Requirement already satisfied: idna<4,>=2.5 in /opt/conda/lib/python3.10/site-packages (from requests->h2o) (3.7)\r\n",
      "Requirement already satisfied: urllib3<3,>=1.21.1 in /opt/conda/lib/python3.10/site-packages (from requests->h2o) (1.26.18)\r\n",
      "Requirement already satisfied: certifi>=2017.4.17 in /opt/conda/lib/python3.10/site-packages (from requests->h2o) (2024.7.4)\r\n",
      "Requirement already satisfied: requests in /opt/conda/lib/python3.10/site-packages (2.32.3)\r\n",
      "Requirement already satisfied: charset-normalizer<4,>=2 in /opt/conda/lib/python3.10/site-packages (from requests) (3.3.2)\r\n",
      "Requirement already satisfied: idna<4,>=2.5 in /opt/conda/lib/python3.10/site-packages (from requests) (3.7)\r\n",
      "Requirement already satisfied: urllib3<3,>=1.21.1 in /opt/conda/lib/python3.10/site-packages (from requests) (1.26.18)\r\n",
      "Requirement already satisfied: certifi>=2017.4.17 in /opt/conda/lib/python3.10/site-packages (from requests) (2024.7.4)\r\n",
      "Requirement already satisfied: tabulate in /opt/conda/lib/python3.10/site-packages (0.9.0)\r\n",
      "Requirement already satisfied: future in /opt/conda/lib/python3.10/site-packages (1.0.0)\r\n"
     ]
    }
   ],
   "source": [
    "!pip install h2o\n",
    "!pip install requests\n",
    "!pip install tabulate\n",
    "!pip install future"
   ]
  },
  {
   "cell_type": "code",
   "execution_count": 4,
   "id": "89400045",
   "metadata": {
    "execution": {
     "iopub.execute_input": "2024-09-24T16:59:58.978265Z",
     "iopub.status.busy": "2024-09-24T16:59:58.977012Z",
     "iopub.status.idle": "2024-09-24T17:01:24.016220Z",
     "shell.execute_reply": "2024-09-24T17:01:24.013703Z"
    },
    "papermill": {
     "duration": 85.053716,
     "end_time": "2024-09-24T17:01:24.019629",
     "exception": false,
     "start_time": "2024-09-24T16:59:58.965913",
     "status": "completed"
    },
    "scrolled": true,
    "tags": []
   },
   "outputs": [
    {
     "name": "stdout",
     "output_type": "stream",
     "text": [
      "Requirement already satisfied: catboost in /opt/conda/lib/python3.10/site-packages (1.2.5)\r\n",
      "Requirement already satisfied: graphviz in /opt/conda/lib/python3.10/site-packages (from catboost) (0.20.3)\r\n",
      "Requirement already satisfied: matplotlib in /opt/conda/lib/python3.10/site-packages (from catboost) (3.7.5)\r\n",
      "Requirement already satisfied: numpy>=1.16.0 in /opt/conda/lib/python3.10/site-packages (from catboost) (1.26.4)\r\n",
      "Requirement already satisfied: pandas>=0.24 in /opt/conda/lib/python3.10/site-packages (from catboost) (2.2.2)\r\n",
      "Requirement already satisfied: scipy in /opt/conda/lib/python3.10/site-packages (from catboost) (1.14.0)\r\n",
      "Requirement already satisfied: plotly in /opt/conda/lib/python3.10/site-packages (from catboost) (5.22.0)\r\n",
      "Requirement already satisfied: six in /opt/conda/lib/python3.10/site-packages (from catboost) (1.16.0)\r\n",
      "Requirement already satisfied: python-dateutil>=2.8.2 in /opt/conda/lib/python3.10/site-packages (from pandas>=0.24->catboost) (2.9.0.post0)\r\n",
      "Requirement already satisfied: pytz>=2020.1 in /opt/conda/lib/python3.10/site-packages (from pandas>=0.24->catboost) (2024.1)\r\n",
      "Requirement already satisfied: tzdata>=2022.7 in /opt/conda/lib/python3.10/site-packages (from pandas>=0.24->catboost) (2024.1)\r\n",
      "Requirement already satisfied: contourpy>=1.0.1 in /opt/conda/lib/python3.10/site-packages (from matplotlib->catboost) (1.2.1)\r\n",
      "Requirement already satisfied: cycler>=0.10 in /opt/conda/lib/python3.10/site-packages (from matplotlib->catboost) (0.12.1)\r\n",
      "Requirement already satisfied: fonttools>=4.22.0 in /opt/conda/lib/python3.10/site-packages (from matplotlib->catboost) (4.53.0)\r\n",
      "Requirement already satisfied: kiwisolver>=1.0.1 in /opt/conda/lib/python3.10/site-packages (from matplotlib->catboost) (1.4.5)\r\n",
      "Requirement already satisfied: packaging>=20.0 in /opt/conda/lib/python3.10/site-packages (from matplotlib->catboost) (21.3)\r\n",
      "Requirement already satisfied: pillow>=6.2.0 in /opt/conda/lib/python3.10/site-packages (from matplotlib->catboost) (9.5.0)\r\n",
      "Requirement already satisfied: pyparsing>=2.3.1 in /opt/conda/lib/python3.10/site-packages (from matplotlib->catboost) (3.1.2)\r\n",
      "Requirement already satisfied: tenacity>=6.2.0 in /opt/conda/lib/python3.10/site-packages (from plotly->catboost) (8.3.0)\r\n",
      "Note: you may need to restart the kernel to use updated packages.\n",
      "Requirement already satisfied: seaborn in /opt/conda/lib/python3.10/site-packages (0.12.2)\r\n",
      "Requirement already satisfied: numpy!=1.24.0,>=1.17 in /opt/conda/lib/python3.10/site-packages (from seaborn) (1.26.4)\r\n",
      "Requirement already satisfied: pandas>=0.25 in /opt/conda/lib/python3.10/site-packages (from seaborn) (2.2.2)\r\n",
      "Requirement already satisfied: matplotlib!=3.6.1,>=3.1 in /opt/conda/lib/python3.10/site-packages (from seaborn) (3.7.5)\r\n",
      "Requirement already satisfied: contourpy>=1.0.1 in /opt/conda/lib/python3.10/site-packages (from matplotlib!=3.6.1,>=3.1->seaborn) (1.2.1)\r\n",
      "Requirement already satisfied: cycler>=0.10 in /opt/conda/lib/python3.10/site-packages (from matplotlib!=3.6.1,>=3.1->seaborn) (0.12.1)\r\n",
      "Requirement already satisfied: fonttools>=4.22.0 in /opt/conda/lib/python3.10/site-packages (from matplotlib!=3.6.1,>=3.1->seaborn) (4.53.0)\r\n",
      "Requirement already satisfied: kiwisolver>=1.0.1 in /opt/conda/lib/python3.10/site-packages (from matplotlib!=3.6.1,>=3.1->seaborn) (1.4.5)\r\n",
      "Requirement already satisfied: packaging>=20.0 in /opt/conda/lib/python3.10/site-packages (from matplotlib!=3.6.1,>=3.1->seaborn) (21.3)\r\n",
      "Requirement already satisfied: pillow>=6.2.0 in /opt/conda/lib/python3.10/site-packages (from matplotlib!=3.6.1,>=3.1->seaborn) (9.5.0)\r\n",
      "Requirement already satisfied: pyparsing>=2.3.1 in /opt/conda/lib/python3.10/site-packages (from matplotlib!=3.6.1,>=3.1->seaborn) (3.1.2)\r\n",
      "Requirement already satisfied: python-dateutil>=2.7 in /opt/conda/lib/python3.10/site-packages (from matplotlib!=3.6.1,>=3.1->seaborn) (2.9.0.post0)\r\n",
      "Requirement already satisfied: pytz>=2020.1 in /opt/conda/lib/python3.10/site-packages (from pandas>=0.25->seaborn) (2024.1)\r\n",
      "Requirement already satisfied: tzdata>=2022.7 in /opt/conda/lib/python3.10/site-packages (from pandas>=0.25->seaborn) (2024.1)\r\n",
      "Requirement already satisfied: six>=1.5 in /opt/conda/lib/python3.10/site-packages (from python-dateutil>=2.7->matplotlib!=3.6.1,>=3.1->seaborn) (1.16.0)\r\n",
      "Note: you may need to restart the kernel to use updated packages.\n",
      "Requirement already satisfied: xgboost in /opt/conda/lib/python3.10/site-packages (2.0.3)\r\n",
      "Requirement already satisfied: numpy in /opt/conda/lib/python3.10/site-packages (from xgboost) (1.26.4)\r\n",
      "Requirement already satisfied: scipy in /opt/conda/lib/python3.10/site-packages (from xgboost) (1.14.0)\r\n",
      "Note: you may need to restart the kernel to use updated packages.\n",
      "Requirement already satisfied: lightgbm in /opt/conda/lib/python3.10/site-packages (4.2.0)\r\n",
      "Requirement already satisfied: numpy in /opt/conda/lib/python3.10/site-packages (from lightgbm) (1.26.4)\r\n",
      "Requirement already satisfied: scipy in /opt/conda/lib/python3.10/site-packages (from lightgbm) (1.14.0)\r\n",
      "Note: you may need to restart the kernel to use updated packages.\n",
      "Requirement already satisfied: tqdm in /opt/conda/lib/python3.10/site-packages (4.66.4)\r\n",
      "Note: you may need to restart the kernel to use updated packages.\n",
      "CPU times: user 1.95 s, sys: 409 ms, total: 2.36 s\n",
      "Wall time: 1min 25s\n"
     ]
    }
   ],
   "source": [
    "%%time\n",
    "%pip install catboost\n",
    "#%pip install optuna\n",
    "#%pip install optuna_distributed\n",
    "#%pip install openfe\n",
    "%pip install seaborn\n",
    "%pip install xgboost\n",
    "%pip install lightgbm\n",
    "#%pip install h2o\n",
    "%pip install tqdm\n",
    "#%pip install wandb\n",
    "#%pip install sweetviz\n",
    "#%pip install --upgrade scipy"
   ]
  },
  {
   "cell_type": "code",
   "execution_count": 5,
   "id": "0f811226",
   "metadata": {
    "execution": {
     "iopub.execute_input": "2024-09-24T17:01:24.045362Z",
     "iopub.status.busy": "2024-09-24T17:01:24.044106Z",
     "iopub.status.idle": "2024-09-24T17:01:24.638696Z",
     "shell.execute_reply": "2024-09-24T17:01:24.637020Z"
    },
    "papermill": {
     "duration": 0.611147,
     "end_time": "2024-09-24T17:01:24.641643",
     "exception": false,
     "start_time": "2024-09-24T17:01:24.030496",
     "status": "completed"
    },
    "tags": []
   },
   "outputs": [],
   "source": [
    "import h2o\n",
    "from h2o.automl import H2OAutoML\n",
    "import pandas as pd\n",
    "from pathlib import Path\n",
    "import os"
   ]
  },
  {
   "cell_type": "markdown",
   "id": "f410d4a1",
   "metadata": {
    "papermill": {
     "duration": 0.009759,
     "end_time": "2024-09-24T17:01:24.661613",
     "exception": false,
     "start_time": "2024-09-24T17:01:24.651854",
     "status": "completed"
    },
    "tags": []
   },
   "source": [
    "Load dataset"
   ]
  },
  {
   "cell_type": "code",
   "execution_count": 6,
   "id": "6ea0debf",
   "metadata": {
    "execution": {
     "iopub.execute_input": "2024-09-24T17:01:24.683891Z",
     "iopub.status.busy": "2024-09-24T17:01:24.683394Z",
     "iopub.status.idle": "2024-09-24T17:01:24.693541Z",
     "shell.execute_reply": "2024-09-24T17:01:24.692137Z"
    },
    "papermill": {
     "duration": 0.025049,
     "end_time": "2024-09-24T17:01:24.696591",
     "exception": false,
     "start_time": "2024-09-24T17:01:24.671542",
     "status": "completed"
    },
    "tags": []
   },
   "outputs": [
    {
     "data": {
      "text/plain": [
       "PosixPath('/kaggle/input/playground-series-s4e9')"
      ]
     },
     "execution_count": 6,
     "metadata": {},
     "output_type": "execute_result"
    }
   ],
   "source": [
    "path = Path('/kaggle/input/playground-series-s4e9/')\n",
    "path"
   ]
  },
  {
   "cell_type": "code",
   "execution_count": 7,
   "id": "cc612184",
   "metadata": {
    "execution": {
     "iopub.execute_input": "2024-09-24T17:01:24.719095Z",
     "iopub.status.busy": "2024-09-24T17:01:24.718651Z",
     "iopub.status.idle": "2024-09-24T17:01:26.515664Z",
     "shell.execute_reply": "2024-09-24T17:01:26.513985Z"
    },
    "papermill": {
     "duration": 1.812013,
     "end_time": "2024-09-24T17:01:26.518969",
     "exception": false,
     "start_time": "2024-09-24T17:01:24.706956",
     "status": "completed"
    },
    "tags": []
   },
   "outputs": [],
   "source": [
    "train_df = pd.read_csv(path/'train.csv',index_col='id')\n",
    "test_df = pd.read_csv(path/'test.csv',index_col='id')\n",
    "sub_df = pd.read_csv(path/'sample_submission.csv')"
   ]
  },
  {
   "cell_type": "code",
   "execution_count": 8,
   "id": "c64aaefc",
   "metadata": {
    "execution": {
     "iopub.execute_input": "2024-09-24T17:01:26.544433Z",
     "iopub.status.busy": "2024-09-24T17:01:26.543896Z",
     "iopub.status.idle": "2024-09-24T17:01:26.549926Z",
     "shell.execute_reply": "2024-09-24T17:01:26.548340Z"
    },
    "papermill": {
     "duration": 0.022786,
     "end_time": "2024-09-24T17:01:26.552984",
     "exception": false,
     "start_time": "2024-09-24T17:01:26.530198",
     "status": "completed"
    },
    "tags": []
   },
   "outputs": [],
   "source": [
    "#x = train_df.columns\n",
    "#y = \"price\"\n",
    "#x.remove(y)"
   ]
  },
  {
   "cell_type": "code",
   "execution_count": 9,
   "id": "a2f4ff4f",
   "metadata": {
    "execution": {
     "iopub.execute_input": "2024-09-24T17:01:26.578579Z",
     "iopub.status.busy": "2024-09-24T17:01:26.577543Z",
     "iopub.status.idle": "2024-09-24T17:01:36.110319Z",
     "shell.execute_reply": "2024-09-24T17:01:36.108662Z"
    },
    "papermill": {
     "duration": 9.549104,
     "end_time": "2024-09-24T17:01:36.113451",
     "exception": false,
     "start_time": "2024-09-24T17:01:26.564347",
     "status": "completed"
    },
    "tags": []
   },
   "outputs": [
    {
     "name": "stdout",
     "output_type": "stream",
     "text": [
      "Checking whether there is an H2O instance running at http://localhost:54321..... not found.\n",
      "Attempting to start a local H2O server...\n",
      "  Java Version: openjdk version \"11.0.24\" 2024-07-16; OpenJDK Runtime Environment (build 11.0.24+8-post-Ubuntu-1ubuntu320.04); OpenJDK 64-Bit Server VM (build 11.0.24+8-post-Ubuntu-1ubuntu320.04, mixed mode, sharing)\n",
      "  Starting server from /opt/conda/lib/python3.10/site-packages/h2o/backend/bin/h2o.jar\n",
      "  Ice root: /tmp/tmpynq9c5qj\n",
      "  JVM stdout: /tmp/tmpynq9c5qj/h2o_unknownUser_started_from_python.out\n",
      "  JVM stderr: /tmp/tmpynq9c5qj/h2o_unknownUser_started_from_python.err\n",
      "  Server is running at http://127.0.0.1:54321\n",
      "Connecting to H2O server at http://127.0.0.1:54321 ... successful.\n"
     ]
    },
    {
     "data": {
      "text/html": [
       "\n",
       "<style>\n",
       "\n",
       "#h2o-table-1.h2o-container {\n",
       "  overflow-x: auto;\n",
       "}\n",
       "#h2o-table-1 .h2o-table {\n",
       "  /* width: 100%; */\n",
       "  margin-top: 1em;\n",
       "  margin-bottom: 1em;\n",
       "}\n",
       "#h2o-table-1 .h2o-table caption {\n",
       "  white-space: nowrap;\n",
       "  caption-side: top;\n",
       "  text-align: left;\n",
       "  /* margin-left: 1em; */\n",
       "  margin: 0;\n",
       "  font-size: larger;\n",
       "}\n",
       "#h2o-table-1 .h2o-table thead {\n",
       "  white-space: nowrap; \n",
       "  position: sticky;\n",
       "  top: 0;\n",
       "  box-shadow: 0 -1px inset;\n",
       "}\n",
       "#h2o-table-1 .h2o-table tbody {\n",
       "  overflow: auto;\n",
       "}\n",
       "#h2o-table-1 .h2o-table th,\n",
       "#h2o-table-1 .h2o-table td {\n",
       "  text-align: right;\n",
       "  /* border: 1px solid; */\n",
       "}\n",
       "#h2o-table-1 .h2o-table tr:nth-child(even) {\n",
       "  /* background: #F5F5F5 */\n",
       "}\n",
       "\n",
       "</style>      \n",
       "<div id=\"h2o-table-1\" class=\"h2o-container\">\n",
       "  <table class=\"h2o-table\">\n",
       "    <caption></caption>\n",
       "    <thead></thead>\n",
       "    <tbody><tr><td>H2O_cluster_uptime:</td>\n",
       "<td>03 secs</td></tr>\n",
       "<tr><td>H2O_cluster_timezone:</td>\n",
       "<td>Etc/UTC</td></tr>\n",
       "<tr><td>H2O_data_parsing_timezone:</td>\n",
       "<td>UTC</td></tr>\n",
       "<tr><td>H2O_cluster_version:</td>\n",
       "<td>3.46.0.4</td></tr>\n",
       "<tr><td>H2O_cluster_version_age:</td>\n",
       "<td>2 months and 14 days</td></tr>\n",
       "<tr><td>H2O_cluster_name:</td>\n",
       "<td>H2O_from_python_unknownUser_1he85y</td></tr>\n",
       "<tr><td>H2O_cluster_total_nodes:</td>\n",
       "<td>1</td></tr>\n",
       "<tr><td>H2O_cluster_free_memory:</td>\n",
       "<td>7.500 Gb</td></tr>\n",
       "<tr><td>H2O_cluster_total_cores:</td>\n",
       "<td>4</td></tr>\n",
       "<tr><td>H2O_cluster_allowed_cores:</td>\n",
       "<td>4</td></tr>\n",
       "<tr><td>H2O_cluster_status:</td>\n",
       "<td>locked, healthy</td></tr>\n",
       "<tr><td>H2O_connection_url:</td>\n",
       "<td>http://127.0.0.1:54321</td></tr>\n",
       "<tr><td>H2O_connection_proxy:</td>\n",
       "<td>{\"http\": null, \"https\": null}</td></tr>\n",
       "<tr><td>H2O_internal_security:</td>\n",
       "<td>False</td></tr>\n",
       "<tr><td>Python_version:</td>\n",
       "<td>3.10.14 final</td></tr></tbody>\n",
       "  </table>\n",
       "</div>\n"
      ],
      "text/plain": [
       "--------------------------  ----------------------------------\n",
       "H2O_cluster_uptime:         03 secs\n",
       "H2O_cluster_timezone:       Etc/UTC\n",
       "H2O_data_parsing_timezone:  UTC\n",
       "H2O_cluster_version:        3.46.0.4\n",
       "H2O_cluster_version_age:    2 months and 14 days\n",
       "H2O_cluster_name:           H2O_from_python_unknownUser_1he85y\n",
       "H2O_cluster_total_nodes:    1\n",
       "H2O_cluster_free_memory:    7.500 Gb\n",
       "H2O_cluster_total_cores:    4\n",
       "H2O_cluster_allowed_cores:  4\n",
       "H2O_cluster_status:         locked, healthy\n",
       "H2O_connection_url:         http://127.0.0.1:54321\n",
       "H2O_connection_proxy:       {\"http\": null, \"https\": null}\n",
       "H2O_internal_security:      False\n",
       "Python_version:             3.10.14 final\n",
       "--------------------------  ----------------------------------"
      ]
     },
     "metadata": {},
     "output_type": "display_data"
    }
   ],
   "source": [
    "h2o.init()"
   ]
  },
  {
   "cell_type": "code",
   "execution_count": 10,
   "id": "9d356dfd",
   "metadata": {
    "execution": {
     "iopub.execute_input": "2024-09-24T17:01:36.141825Z",
     "iopub.status.busy": "2024-09-24T17:01:36.140265Z",
     "iopub.status.idle": "2024-09-24T17:01:44.408456Z",
     "shell.execute_reply": "2024-09-24T17:01:44.407083Z"
    },
    "papermill": {
     "duration": 8.286013,
     "end_time": "2024-09-24T17:01:44.411668",
     "exception": false,
     "start_time": "2024-09-24T17:01:36.125655",
     "status": "completed"
    },
    "tags": []
   },
   "outputs": [
    {
     "name": "stdout",
     "output_type": "stream",
     "text": [
      "Parse progress: |████████████████████████████████████████████████████████████████| (done) 100%\n"
     ]
    }
   ],
   "source": [
    "train_data = h2o.H2OFrame(train_df)"
   ]
  },
  {
   "cell_type": "code",
   "execution_count": 11,
   "id": "6f3169e1",
   "metadata": {
    "execution": {
     "iopub.execute_input": "2024-09-24T17:01:44.445389Z",
     "iopub.status.busy": "2024-09-24T17:01:44.444682Z",
     "iopub.status.idle": "2024-09-25T02:58:55.821728Z",
     "shell.execute_reply": "2024-09-25T02:58:55.820290Z"
    },
    "papermill": {
     "duration": 35831.398902,
     "end_time": "2024-09-25T02:58:55.826359",
     "exception": false,
     "start_time": "2024-09-24T17:01:44.427457",
     "status": "completed"
    },
    "tags": []
   },
   "outputs": [
    {
     "name": "stdout",
     "output_type": "stream",
     "text": [
      "AutoML progress: |███████████████████████████████████████████████████████████████| (done) 100%\n",
      "CPU times: user 6min 47s, sys: 25.8 s, total: 7min 12s\n",
      "Wall time: 9h 57min 11s\n"
     ]
    },
    {
     "data": {
      "text/html": [
       "<pre style='margin: 1em 0 1em 0;'>Model Details\n",
       "=============\n",
       "H2OStackedEnsembleEstimator : Stacked Ensemble\n",
       "Model Key: StackedEnsemble_AllModels_4_AutoML_1_20240924_170144\n",
       "</pre>\n",
       "<div style='margin: 1em 0 1em 0;'>\n",
       "<style>\n",
       "\n",
       "#h2o-table-2.h2o-container {\n",
       "  overflow-x: auto;\n",
       "}\n",
       "#h2o-table-2 .h2o-table {\n",
       "  /* width: 100%; */\n",
       "  margin-top: 1em;\n",
       "  margin-bottom: 1em;\n",
       "}\n",
       "#h2o-table-2 .h2o-table caption {\n",
       "  white-space: nowrap;\n",
       "  caption-side: top;\n",
       "  text-align: left;\n",
       "  /* margin-left: 1em; */\n",
       "  margin: 0;\n",
       "  font-size: larger;\n",
       "}\n",
       "#h2o-table-2 .h2o-table thead {\n",
       "  white-space: nowrap; \n",
       "  position: sticky;\n",
       "  top: 0;\n",
       "  box-shadow: 0 -1px inset;\n",
       "}\n",
       "#h2o-table-2 .h2o-table tbody {\n",
       "  overflow: auto;\n",
       "}\n",
       "#h2o-table-2 .h2o-table th,\n",
       "#h2o-table-2 .h2o-table td {\n",
       "  text-align: right;\n",
       "  /* border: 1px solid; */\n",
       "}\n",
       "#h2o-table-2 .h2o-table tr:nth-child(even) {\n",
       "  /* background: #F5F5F5 */\n",
       "}\n",
       "\n",
       "</style>      \n",
       "<div id=\"h2o-table-2\" class=\"h2o-container\">\n",
       "  <table class=\"h2o-table\">\n",
       "    <caption>Model Summary for Stacked Ensemble: </caption>\n",
       "    <thead><tr><th>key</th>\n",
       "<th>value</th></tr></thead>\n",
       "    <tbody><tr><td>Stacking strategy</td>\n",
       "<td>cross_validation</td></tr>\n",
       "<tr><td>Number of base models (used / total)</td>\n",
       "<td>21/197</td></tr>\n",
       "<tr><td># GBM base models (used / total)</td>\n",
       "<td>9/63</td></tr>\n",
       "<tr><td># XGBoost base models (used / total)</td>\n",
       "<td>7/117</td></tr>\n",
       "<tr><td># DeepLearning base models (used / total)</td>\n",
       "<td>4/14</td></tr>\n",
       "<tr><td># DRF base models (used / total)</td>\n",
       "<td>1/2</td></tr>\n",
       "<tr><td># GLM base models (used / total)</td>\n",
       "<td>0/1</td></tr>\n",
       "<tr><td>Metalearner algorithm</td>\n",
       "<td>GLM</td></tr>\n",
       "<tr><td>Metalearner fold assignment scheme</td>\n",
       "<td>Random</td></tr>\n",
       "<tr><td>Metalearner nfolds</td>\n",
       "<td>5</td></tr>\n",
       "<tr><td>Metalearner fold_column</td>\n",
       "<td>None</td></tr>\n",
       "<tr><td>Custom metalearner hyperparameters</td>\n",
       "<td>None</td></tr></tbody>\n",
       "  </table>\n",
       "</div>\n",
       "</div>\n",
       "<div style='margin: 1em 0 1em 0;'><pre style='margin: 1em 0 1em 0;'>ModelMetricsRegressionGLM: stackedensemble\n",
       "** Reported on train data. **\n",
       "\n",
       "MSE: 3864340258.626778\n",
       "RMSE: 62163.81792189713\n",
       "MAE: 18049.364635154907\n",
       "RMSLE: 0.4928474033759318\n",
       "Mean Residual Deviance: 3864340258.626778\n",
       "R^2: 0.2952749655915169\n",
       "Null degrees of freedom: 9946\n",
       "Residual degrees of freedom: 9925\n",
       "Null deviance: 54544108139384.57\n",
       "Residual deviance: 38438592552560.56\n",
       "AIC: 247854.9532494517</pre></div>\n",
       "<div style='margin: 1em 0 1em 0;'><pre style='margin: 1em 0 1em 0;'>ModelMetricsRegressionGLM: stackedensemble\n",
       "** Reported on cross-validation data. **\n",
       "\n",
       "MSE: 5266644943.953386\n",
       "RMSE: 72571.65385984658\n",
       "MAE: 19161.479177234727\n",
       "RMSLE: 0.531029581703333\n",
       "Mean Residual Deviance: 5266644943.953386\n",
       "R^2: 0.15224814611982262\n",
       "Null degrees of freedom: 188532\n",
       "Residual degrees of freedom: 188510\n",
       "Null deviance: 1171270067087780.8\n",
       "Residual deviance: 992936371218363.8\n",
       "AIC: 4755328.460784763</pre></div>\n",
       "<div style='margin: 1em 0 1em 0;'>\n",
       "<style>\n",
       "\n",
       "#h2o-table-3.h2o-container {\n",
       "  overflow-x: auto;\n",
       "}\n",
       "#h2o-table-3 .h2o-table {\n",
       "  /* width: 100%; */\n",
       "  margin-top: 1em;\n",
       "  margin-bottom: 1em;\n",
       "}\n",
       "#h2o-table-3 .h2o-table caption {\n",
       "  white-space: nowrap;\n",
       "  caption-side: top;\n",
       "  text-align: left;\n",
       "  /* margin-left: 1em; */\n",
       "  margin: 0;\n",
       "  font-size: larger;\n",
       "}\n",
       "#h2o-table-3 .h2o-table thead {\n",
       "  white-space: nowrap; \n",
       "  position: sticky;\n",
       "  top: 0;\n",
       "  box-shadow: 0 -1px inset;\n",
       "}\n",
       "#h2o-table-3 .h2o-table tbody {\n",
       "  overflow: auto;\n",
       "}\n",
       "#h2o-table-3 .h2o-table th,\n",
       "#h2o-table-3 .h2o-table td {\n",
       "  text-align: right;\n",
       "  /* border: 1px solid; */\n",
       "}\n",
       "#h2o-table-3 .h2o-table tr:nth-child(even) {\n",
       "  /* background: #F5F5F5 */\n",
       "}\n",
       "\n",
       "</style>      \n",
       "<div id=\"h2o-table-3\" class=\"h2o-container\">\n",
       "  <table class=\"h2o-table\">\n",
       "    <caption>Cross-Validation Metrics Summary: </caption>\n",
       "    <thead><tr><th></th>\n",
       "<th>mean</th>\n",
       "<th>sd</th>\n",
       "<th>cv_1_valid</th>\n",
       "<th>cv_2_valid</th>\n",
       "<th>cv_3_valid</th>\n",
       "<th>cv_4_valid</th>\n",
       "<th>cv_5_valid</th></tr></thead>\n",
       "    <tbody><tr><td>aic</td>\n",
       "<td>950994.7</td>\n",
       "<td>4030.6155</td>\n",
       "<td>951425.3</td>\n",
       "<td>956271.25</td>\n",
       "<td>952879.4</td>\n",
       "<td>945684.5</td>\n",
       "<td>948713.1</td></tr>\n",
       "<tr><td>loglikelihood</td>\n",
       "<td>0.0</td>\n",
       "<td>0.0</td>\n",
       "<td>0.0</td>\n",
       "<td>0.0</td>\n",
       "<td>0.0</td>\n",
       "<td>0.0</td>\n",
       "<td>0.0</td></tr>\n",
       "<tr><td>mae</td>\n",
       "<td>19162.197</td>\n",
       "<td>358.15</td>\n",
       "<td>18719.45</td>\n",
       "<td>19227.322</td>\n",
       "<td>18878.832</td>\n",
       "<td>19576.559</td>\n",
       "<td>19408.828</td></tr>\n",
       "<tr><td>mean_residual_deviance</td>\n",
       "<td>5267764700.0000000</td>\n",
       "<td>440075200.0000000</td>\n",
       "<td>4811717600.0000000</td>\n",
       "<td>5796502000.0000000</td>\n",
       "<td>4811764200.0000000</td>\n",
       "<td>5512913400.0000000</td>\n",
       "<td>5405925900.0000000</td></tr>\n",
       "<tr><td>mse</td>\n",
       "<td>5267764700.0000000</td>\n",
       "<td>440075200.0000000</td>\n",
       "<td>4811717600.0000000</td>\n",
       "<td>5796502000.0000000</td>\n",
       "<td>4811764200.0000000</td>\n",
       "<td>5512913400.0000000</td>\n",
       "<td>5405925900.0000000</td></tr>\n",
       "<tr><td>null_deviance</td>\n",
       "<td>234254009000000.0000000</td>\n",
       "<td>17989845900000.0000000</td>\n",
       "<td>214832066000000.0000000</td>\n",
       "<td>258246133000000.0000000</td>\n",
       "<td>217875504000000.0000000</td>\n",
       "<td>241523929000000.0000000</td>\n",
       "<td>238792447000000.0000000</td></tr>\n",
       "<tr><td>r2</td>\n",
       "<td>0.1524320</td>\n",
       "<td>0.0063064</td>\n",
       "<td>0.1520561</td>\n",
       "<td>0.1522594</td>\n",
       "<td>0.1626913</td>\n",
       "<td>0.1457725</td>\n",
       "<td>0.1493807</td></tr>\n",
       "<tr><td>residual_deviance</td>\n",
       "<td>198586084000000.0000000</td>\n",
       "<td>16008779700000.0000000</td>\n",
       "<td>182147583000000.0000000</td>\n",
       "<td>218922284000000.0000000</td>\n",
       "<td>182428417000000.0000000</td>\n",
       "<td>206315280000000.0000000</td>\n",
       "<td>203116855000000.0000000</td></tr>\n",
       "<tr><td>rmse</td>\n",
       "<td>72528.44</td>\n",
       "<td>3039.4092</td>\n",
       "<td>69366.55</td>\n",
       "<td>76134.766</td>\n",
       "<td>69366.88</td>\n",
       "<td>74249.0</td>\n",
       "<td>73525.0</td></tr>\n",
       "<tr><td>rmsle</td>\n",
       "<td>0.5310460</td>\n",
       "<td>0.0059048</td>\n",
       "<td>0.5262969</td>\n",
       "<td>0.5304127</td>\n",
       "<td>0.5248919</td>\n",
       "<td>0.5392730</td>\n",
       "<td>0.5343559</td></tr></tbody>\n",
       "  </table>\n",
       "</div>\n",
       "</div><pre style=\"font-size: smaller; margin: 1em 0 0 0;\">\n",
       "\n",
       "[tips]\n",
       "Use `model.explain()` to inspect the model.\n",
       "--\n",
       "Use `h2o.display.toggle_user_tips()` to switch on/off this section.</pre>"
      ],
      "text/plain": [
       "Model Details\n",
       "=============\n",
       "H2OStackedEnsembleEstimator : Stacked Ensemble\n",
       "Model Key: StackedEnsemble_AllModels_4_AutoML_1_20240924_170144\n",
       "\n",
       "\n",
       "Model Summary for Stacked Ensemble: \n",
       "key                                        value\n",
       "-----------------------------------------  ----------------\n",
       "Stacking strategy                          cross_validation\n",
       "Number of base models (used / total)       21/197\n",
       "# GBM base models (used / total)           9/63\n",
       "# XGBoost base models (used / total)       7/117\n",
       "# DeepLearning base models (used / total)  4/14\n",
       "# DRF base models (used / total)           1/2\n",
       "# GLM base models (used / total)           0/1\n",
       "Metalearner algorithm                      GLM\n",
       "Metalearner fold assignment scheme         Random\n",
       "Metalearner nfolds                         5\n",
       "Metalearner fold_column\n",
       "Custom metalearner hyperparameters         None\n",
       "\n",
       "ModelMetricsRegressionGLM: stackedensemble\n",
       "** Reported on train data. **\n",
       "\n",
       "MSE: 3864340258.626778\n",
       "RMSE: 62163.81792189713\n",
       "MAE: 18049.364635154907\n",
       "RMSLE: 0.4928474033759318\n",
       "Mean Residual Deviance: 3864340258.626778\n",
       "R^2: 0.2952749655915169\n",
       "Null degrees of freedom: 9946\n",
       "Residual degrees of freedom: 9925\n",
       "Null deviance: 54544108139384.57\n",
       "Residual deviance: 38438592552560.56\n",
       "AIC: 247854.9532494517\n",
       "\n",
       "ModelMetricsRegressionGLM: stackedensemble\n",
       "** Reported on cross-validation data. **\n",
       "\n",
       "MSE: 5266644943.953386\n",
       "RMSE: 72571.65385984658\n",
       "MAE: 19161.479177234727\n",
       "RMSLE: 0.531029581703333\n",
       "Mean Residual Deviance: 5266644943.953386\n",
       "R^2: 0.15224814611982262\n",
       "Null degrees of freedom: 188532\n",
       "Residual degrees of freedom: 188510\n",
       "Null deviance: 1171270067087780.8\n",
       "Residual deviance: 992936371218363.8\n",
       "AIC: 4755328.460784763\n",
       "\n",
       "Cross-Validation Metrics Summary: \n",
       "                        mean         sd           cv_1_valid    cv_2_valid    cv_3_valid    cv_4_valid    cv_5_valid\n",
       "----------------------  -----------  -----------  ------------  ------------  ------------  ------------  ------------\n",
       "aic                     950995       4030.62      951425        956271        952879        945684        948713\n",
       "loglikelihood           0            0            0             0             0             0             0\n",
       "mae                     19162.2      358.15       18719.5       19227.3       18878.8       19576.6       19408.8\n",
       "mean_residual_deviance  5.26776e+09  4.40075e+08  4.81172e+09   5.7965e+09    4.81176e+09   5.51291e+09   5.40593e+09\n",
       "mse                     5.26776e+09  4.40075e+08  4.81172e+09   5.7965e+09    4.81176e+09   5.51291e+09   5.40593e+09\n",
       "null_deviance           2.34254e+14  1.79898e+13  2.14832e+14   2.58246e+14   2.17876e+14   2.41524e+14   2.38792e+14\n",
       "r2                      0.152432     0.00630642   0.152056      0.152259      0.162691      0.145772      0.149381\n",
       "residual_deviance       1.98586e+14  1.60088e+13  1.82148e+14   2.18922e+14   1.82428e+14   2.06315e+14   2.03117e+14\n",
       "rmse                    72528.4      3039.41      69366.6       76134.8       69366.9       74249         73525\n",
       "rmsle                   0.531046     0.00590479   0.526297      0.530413      0.524892      0.539273      0.534356\n",
       "\n",
       "[tips]\n",
       "Use `model.explain()` to inspect the model.\n",
       "--\n",
       "Use `h2o.display.toggle_user_tips()` to switch on/off this section."
      ]
     },
     "execution_count": 11,
     "metadata": {},
     "output_type": "execute_result"
    }
   ],
   "source": [
    "%%time\n",
    "aml = H2OAutoML(max_runtime_secs=3600*10,seed=42)\n",
    "aml.train(y='price', training_frame=train_data)"
   ]
  },
  {
   "cell_type": "code",
   "execution_count": 12,
   "id": "21a7b45f",
   "metadata": {
    "execution": {
     "iopub.execute_input": "2024-09-25T02:58:55.894496Z",
     "iopub.status.busy": "2024-09-25T02:58:55.893395Z",
     "iopub.status.idle": "2024-09-25T03:24:04.109485Z",
     "shell.execute_reply": "2024-09-25T03:24:04.108149Z"
    },
    "papermill": {
     "duration": 1508.287022,
     "end_time": "2024-09-25T03:24:04.144875",
     "exception": false,
     "start_time": "2024-09-25T02:58:55.857853",
     "status": "completed"
    },
    "tags": []
   },
   "outputs": [
    {
     "data": {
      "text/html": [
       "<table class='dataframe'>\n",
       "<thead>\n",
       "<tr><th>model_id                                               </th><th style=\"text-align: right;\">   rmse</th><th style=\"text-align: right;\">        mse</th><th style=\"text-align: right;\">    mae</th><th style=\"text-align: right;\">     rmsle</th><th style=\"text-align: right;\">  mean_residual_deviance</th><th style=\"text-align: right;\">  training_time_ms</th><th style=\"text-align: right;\">  predict_time_per_row_ms</th><th>algo           </th></tr>\n",
       "</thead>\n",
       "<tbody>\n",
       "<tr><td>StackedEnsemble_AllModels_4_AutoML_1_20240924_170144   </td><td style=\"text-align: right;\">72571.7</td><td style=\"text-align: right;\">5.26664e+09</td><td style=\"text-align: right;\">19161.5</td><td style=\"text-align: right;\">  0.53103 </td><td style=\"text-align: right;\">             5.26664e+09</td><td style=\"text-align: right;\">             39611</td><td style=\"text-align: right;\">                 0.427728</td><td>StackedEnsemble</td></tr>\n",
       "<tr><td>StackedEnsemble_AllModels_3_AutoML_1_20240924_170144   </td><td style=\"text-align: right;\">72579.7</td><td style=\"text-align: right;\">5.26781e+09</td><td style=\"text-align: right;\">19186.9</td><td style=\"text-align: right;\">  0.531639</td><td style=\"text-align: right;\">             5.26781e+09</td><td style=\"text-align: right;\">             37837</td><td style=\"text-align: right;\">                 0.388577</td><td>StackedEnsemble</td></tr>\n",
       "<tr><td>StackedEnsemble_AllModels_6_AutoML_1_20240924_170144   </td><td style=\"text-align: right;\">72588.6</td><td style=\"text-align: right;\">5.2691e+09 </td><td style=\"text-align: right;\">19120.6</td><td style=\"text-align: right;\">  0.536786</td><td style=\"text-align: right;\">             5.2691e+09 </td><td style=\"text-align: right;\">            106532</td><td style=\"text-align: right;\">                 0.536355</td><td>StackedEnsemble</td></tr>\n",
       "<tr><td>StackedEnsemble_Best1000_1_AutoML_1_20240924_170144    </td><td style=\"text-align: right;\">72593.9</td><td style=\"text-align: right;\">5.26987e+09</td><td style=\"text-align: right;\">19169  </td><td style=\"text-align: right;\">  0.531185</td><td style=\"text-align: right;\">             5.26987e+09</td><td style=\"text-align: right;\">             48091</td><td style=\"text-align: right;\">                 0.445856</td><td>StackedEnsemble</td></tr>\n",
       "<tr><td>StackedEnsemble_BestOfFamily_4_AutoML_1_20240924_170144</td><td style=\"text-align: right;\">72602.8</td><td style=\"text-align: right;\">5.27116e+09</td><td style=\"text-align: right;\">19290.5</td><td style=\"text-align: right;\">  0.536561</td><td style=\"text-align: right;\">             5.27116e+09</td><td style=\"text-align: right;\">              1970</td><td style=\"text-align: right;\">                 0.108054</td><td>StackedEnsemble</td></tr>\n",
       "<tr><td>StackedEnsemble_BestOfFamily_6_AutoML_1_20240924_170144</td><td style=\"text-align: right;\">72615.5</td><td style=\"text-align: right;\">5.27301e+09</td><td style=\"text-align: right;\">19232.9</td><td style=\"text-align: right;\">  0.539969</td><td style=\"text-align: right;\">             5.27301e+09</td><td style=\"text-align: right;\">              6555</td><td style=\"text-align: right;\">                 0.104303</td><td>StackedEnsemble</td></tr>\n",
       "<tr><td>StackedEnsemble_BestOfFamily_3_AutoML_1_20240924_170144</td><td style=\"text-align: right;\">72621.2</td><td style=\"text-align: right;\">5.27384e+09</td><td style=\"text-align: right;\">19289.7</td><td style=\"text-align: right;\">  0.536662</td><td style=\"text-align: right;\">             5.27384e+09</td><td style=\"text-align: right;\">              1903</td><td style=\"text-align: right;\">                 0.108194</td><td>StackedEnsemble</td></tr>\n",
       "<tr><td>StackedEnsemble_AllModels_2_AutoML_1_20240924_170144   </td><td style=\"text-align: right;\">72621.7</td><td style=\"text-align: right;\">5.27392e+09</td><td style=\"text-align: right;\">19289.4</td><td style=\"text-align: right;\">  0.536778</td><td style=\"text-align: right;\">             5.27392e+09</td><td style=\"text-align: right;\">              1944</td><td style=\"text-align: right;\">                 0.085145</td><td>StackedEnsemble</td></tr>\n",
       "<tr><td>DeepLearning_1_AutoML_1_20240924_170144                </td><td style=\"text-align: right;\">72774.1</td><td style=\"text-align: right;\">5.29607e+09</td><td style=\"text-align: right;\">19647.5</td><td style=\"text-align: right;\">nan       </td><td style=\"text-align: right;\">             5.29607e+09</td><td style=\"text-align: right;\">             77228</td><td style=\"text-align: right;\">                 0.030083</td><td>DeepLearning   </td></tr>\n",
       "<tr><td>StackedEnsemble_BestOfFamily_5_AutoML_1_20240924_170144</td><td style=\"text-align: right;\">72776  </td><td style=\"text-align: right;\">5.29635e+09</td><td style=\"text-align: right;\">19171.6</td><td style=\"text-align: right;\">nan       </td><td style=\"text-align: right;\">             5.29635e+09</td><td style=\"text-align: right;\">             31370</td><td style=\"text-align: right;\">                 0.259175</td><td>StackedEnsemble</td></tr>\n",
       "</tbody>\n",
       "</table><pre style='font-size: smaller; margin-bottom: 1em;'>[218 rows x 9 columns]</pre>"
      ],
      "text/plain": [
       "model_id                                                    rmse          mse      mae       rmsle    mean_residual_deviance    training_time_ms    predict_time_per_row_ms  algo\n",
       "-------------------------------------------------------  -------  -----------  -------  ----------  ------------------------  ------------------  -------------------------  ---------------\n",
       "StackedEnsemble_AllModels_4_AutoML_1_20240924_170144     72571.7  5.26664e+09  19161.5    0.53103                5.26664e+09               39611                   0.427728  StackedEnsemble\n",
       "StackedEnsemble_AllModels_3_AutoML_1_20240924_170144     72579.7  5.26781e+09  19186.9    0.531639               5.26781e+09               37837                   0.388577  StackedEnsemble\n",
       "StackedEnsemble_AllModels_6_AutoML_1_20240924_170144     72588.6  5.2691e+09   19120.6    0.536786               5.2691e+09               106532                   0.536355  StackedEnsemble\n",
       "StackedEnsemble_Best1000_1_AutoML_1_20240924_170144      72593.9  5.26987e+09  19169      0.531185               5.26987e+09               48091                   0.445856  StackedEnsemble\n",
       "StackedEnsemble_BestOfFamily_4_AutoML_1_20240924_170144  72602.8  5.27116e+09  19290.5    0.536561               5.27116e+09                1970                   0.108054  StackedEnsemble\n",
       "StackedEnsemble_BestOfFamily_6_AutoML_1_20240924_170144  72615.5  5.27301e+09  19232.9    0.539969               5.27301e+09                6555                   0.104303  StackedEnsemble\n",
       "StackedEnsemble_BestOfFamily_3_AutoML_1_20240924_170144  72621.2  5.27384e+09  19289.7    0.536662               5.27384e+09                1903                   0.108194  StackedEnsemble\n",
       "StackedEnsemble_AllModels_2_AutoML_1_20240924_170144     72621.7  5.27392e+09  19289.4    0.536778               5.27392e+09                1944                   0.085145  StackedEnsemble\n",
       "DeepLearning_1_AutoML_1_20240924_170144                  72774.1  5.29607e+09  19647.5  nan                      5.29607e+09               77228                   0.030083  DeepLearning\n",
       "StackedEnsemble_BestOfFamily_5_AutoML_1_20240924_170144  72776    5.29635e+09  19171.6  nan                      5.29635e+09               31370                   0.259175  StackedEnsemble\n",
       "[218 rows x 9 columns]\n"
      ]
     },
     "execution_count": 12,
     "metadata": {},
     "output_type": "execute_result"
    }
   ],
   "source": [
    "# Get leaderboard with all possible columns\n",
    "lb = h2o.automl.get_leaderboard(aml, extra_columns = \"ALL\")\n",
    "lb"
   ]
  },
  {
   "cell_type": "code",
   "execution_count": 13,
   "id": "f85b079e",
   "metadata": {
    "execution": {
     "iopub.execute_input": "2024-09-25T03:24:04.207373Z",
     "iopub.status.busy": "2024-09-25T03:24:04.205543Z",
     "iopub.status.idle": "2024-09-25T03:24:08.317953Z",
     "shell.execute_reply": "2024-09-25T03:24:08.316390Z"
    },
    "papermill": {
     "duration": 4.146892,
     "end_time": "2024-09-25T03:24:08.321231",
     "exception": false,
     "start_time": "2024-09-25T03:24:04.174339",
     "status": "completed"
    },
    "tags": []
   },
   "outputs": [
    {
     "name": "stdout",
     "output_type": "stream",
     "text": [
      "Parse progress: |████████████████████████████████████████████████████████████████| (done) 100%\n"
     ]
    }
   ],
   "source": [
    "test_data = h2o.H2OFrame(test_df)"
   ]
  },
  {
   "cell_type": "code",
   "execution_count": 14,
   "id": "4a1c2192",
   "metadata": {
    "execution": {
     "iopub.execute_input": "2024-09-25T03:24:08.367415Z",
     "iopub.status.busy": "2024-09-25T03:24:08.365759Z",
     "iopub.status.idle": "2024-09-25T03:24:08.417965Z",
     "shell.execute_reply": "2024-09-25T03:24:08.416465Z"
    },
    "papermill": {
     "duration": 0.078167,
     "end_time": "2024-09-25T03:24:08.420916",
     "exception": false,
     "start_time": "2024-09-25T03:24:08.342749",
     "status": "completed"
    },
    "tags": []
   },
   "outputs": [
    {
     "name": "stdout",
     "output_type": "stream",
     "text": [
      "model_id                                                    rmse          mse      mae       rmsle    mean_residual_deviance\n",
      "StackedEnsemble_AllModels_4_AutoML_1_20240924_170144     72571.7  5.26664e+09  19161.5    0.53103                5.26664e+09\n",
      "StackedEnsemble_AllModels_3_AutoML_1_20240924_170144     72579.7  5.26781e+09  19186.9    0.531639               5.26781e+09\n",
      "StackedEnsemble_AllModels_6_AutoML_1_20240924_170144     72588.6  5.2691e+09   19120.6    0.536786               5.2691e+09\n",
      "StackedEnsemble_Best1000_1_AutoML_1_20240924_170144      72593.9  5.26987e+09  19169      0.531185               5.26987e+09\n",
      "StackedEnsemble_BestOfFamily_4_AutoML_1_20240924_170144  72602.8  5.27116e+09  19290.5    0.536561               5.27116e+09\n",
      "StackedEnsemble_BestOfFamily_6_AutoML_1_20240924_170144  72615.5  5.27301e+09  19232.9    0.539969               5.27301e+09\n",
      "StackedEnsemble_BestOfFamily_3_AutoML_1_20240924_170144  72621.2  5.27384e+09  19289.7    0.536662               5.27384e+09\n",
      "StackedEnsemble_AllModels_2_AutoML_1_20240924_170144     72621.7  5.27392e+09  19289.4    0.536778               5.27392e+09\n",
      "DeepLearning_1_AutoML_1_20240924_170144                  72774.1  5.29607e+09  19647.5  nan                      5.29607e+09\n",
      "StackedEnsemble_BestOfFamily_5_AutoML_1_20240924_170144  72776    5.29635e+09  19171.6  nan                      5.29635e+09\n",
      "[218 rows x 6 columns]\n",
      "\n",
      "Model Details\n",
      "=============\n",
      "H2OStackedEnsembleEstimator : Stacked Ensemble\n",
      "Model Key: StackedEnsemble_AllModels_4_AutoML_1_20240924_170144\n",
      "\n",
      "\n",
      "Model Summary for Stacked Ensemble: \n",
      "key                                        value\n",
      "-----------------------------------------  ----------------\n",
      "Stacking strategy                          cross_validation\n",
      "Number of base models (used / total)       21/197\n",
      "# GBM base models (used / total)           9/63\n",
      "# XGBoost base models (used / total)       7/117\n",
      "# DeepLearning base models (used / total)  4/14\n",
      "# DRF base models (used / total)           1/2\n",
      "# GLM base models (used / total)           0/1\n",
      "Metalearner algorithm                      GLM\n",
      "Metalearner fold assignment scheme         Random\n",
      "Metalearner nfolds                         5\n",
      "Metalearner fold_column\n",
      "Custom metalearner hyperparameters         None\n",
      "\n",
      "ModelMetricsRegressionGLM: stackedensemble\n",
      "** Reported on train data. **\n",
      "\n",
      "MSE: 3864340258.626778\n",
      "RMSE: 62163.81792189713\n",
      "MAE: 18049.364635154907\n",
      "RMSLE: 0.4928474033759318\n",
      "Mean Residual Deviance: 3864340258.626778\n",
      "R^2: 0.2952749655915169\n",
      "Null degrees of freedom: 9946\n",
      "Residual degrees of freedom: 9925\n",
      "Null deviance: 54544108139384.57\n",
      "Residual deviance: 38438592552560.56\n",
      "AIC: 247854.9532494517\n",
      "\n",
      "ModelMetricsRegressionGLM: stackedensemble\n",
      "** Reported on cross-validation data. **\n",
      "\n",
      "MSE: 5266644943.953386\n",
      "RMSE: 72571.65385984658\n",
      "MAE: 19161.479177234727\n",
      "RMSLE: 0.531029581703333\n",
      "Mean Residual Deviance: 5266644943.953386\n",
      "R^2: 0.15224814611982262\n",
      "Null degrees of freedom: 188532\n",
      "Residual degrees of freedom: 188510\n",
      "Null deviance: 1171270067087780.8\n",
      "Residual deviance: 992936371218363.8\n",
      "AIC: 4755328.460784763\n",
      "\n",
      "Cross-Validation Metrics Summary: \n",
      "                        mean         sd           cv_1_valid    cv_2_valid    cv_3_valid    cv_4_valid    cv_5_valid\n",
      "----------------------  -----------  -----------  ------------  ------------  ------------  ------------  ------------\n",
      "aic                     950995       4030.62      951425        956271        952879        945684        948713\n",
      "loglikelihood           0            0            0             0             0             0             0\n",
      "mae                     19162.2      358.15       18719.5       19227.3       18878.8       19576.6       19408.8\n",
      "mean_residual_deviance  5.26776e+09  4.40075e+08  4.81172e+09   5.7965e+09    4.81176e+09   5.51291e+09   5.40593e+09\n",
      "mse                     5.26776e+09  4.40075e+08  4.81172e+09   5.7965e+09    4.81176e+09   5.51291e+09   5.40593e+09\n",
      "null_deviance           2.34254e+14  1.79898e+13  2.14832e+14   2.58246e+14   2.17876e+14   2.41524e+14   2.38792e+14\n",
      "r2                      0.152432     0.00630642   0.152056      0.152259      0.162691      0.145772      0.149381\n",
      "residual_deviance       1.98586e+14  1.60088e+13  1.82148e+14   2.18922e+14   1.82428e+14   2.06315e+14   2.03117e+14\n",
      "rmse                    72528.4      3039.41      69366.6       76134.8       69366.9       74249         73525\n",
      "rmsle                   0.531046     0.00590479   0.526297      0.530413      0.524892      0.539273      0.534356\n"
     ]
    }
   ],
   "source": [
    "leaderboard = aml.leaderboard\n",
    "print(leaderboard)\n",
    "best_model = aml.leader\n",
    "print(best_model)"
   ]
  },
  {
   "cell_type": "code",
   "execution_count": 15,
   "id": "51db861e",
   "metadata": {
    "execution": {
     "iopub.execute_input": "2024-09-25T03:24:08.467440Z",
     "iopub.status.busy": "2024-09-25T03:24:08.466896Z",
     "iopub.status.idle": "2024-09-25T03:24:11.317394Z",
     "shell.execute_reply": "2024-09-25T03:24:11.315939Z"
    },
    "papermill": {
     "duration": 2.877093,
     "end_time": "2024-09-25T03:24:11.320633",
     "exception": false,
     "start_time": "2024-09-25T03:24:08.443540",
     "status": "completed"
    },
    "tags": []
   },
   "outputs": [
    {
     "name": "stdout",
     "output_type": "stream",
     "text": [
      "Parse progress: |████████████████████████████████████████████████████████████████| (done) 100%\n"
     ]
    }
   ],
   "source": [
    "test_data = h2o.H2OFrame(test_df)"
   ]
  },
  {
   "cell_type": "code",
   "execution_count": 16,
   "id": "0fb60f41",
   "metadata": {
    "execution": {
     "iopub.execute_input": "2024-09-25T03:24:11.368992Z",
     "iopub.status.busy": "2024-09-25T03:24:11.368477Z",
     "iopub.status.idle": "2024-09-25T03:26:11.277365Z",
     "shell.execute_reply": "2024-09-25T03:26:11.275956Z"
    },
    "papermill": {
     "duration": 119.937098,
     "end_time": "2024-09-25T03:26:11.280571",
     "exception": false,
     "start_time": "2024-09-25T03:24:11.343473",
     "status": "completed"
    },
    "tags": []
   },
   "outputs": [
    {
     "name": "stdout",
     "output_type": "stream",
     "text": [
      "stackedensemble prediction progress: |███████████████████████████████████████████| (done) 100%\n"
     ]
    },
    {
     "name": "stderr",
     "output_type": "stream",
     "text": [
      "/opt/conda/lib/python3.10/site-packages/h2o/job.py:81: UserWarning: Test/Validation dataset column 'model' has levels not trained on: [\"allroad 2.7T\"]\n",
      "  warnings.warn(w)\n",
      "/opt/conda/lib/python3.10/site-packages/h2o/job.py:81: UserWarning: Test/Validation dataset column 'engine' has levels not trained on: [\"177.0HP 1.6L 4 Cylinder Engine Plug-In Electric/Gas\"]\n",
      "  warnings.warn(w)\n",
      "/opt/conda/lib/python3.10/site-packages/h2o/frame.py:1981: H2ODependencyWarning: Converting H2O frame to pandas dataframe using single-thread.  For faster conversion using multi-thread, install polars and pyarrow and use it as pandas_df = h2o_df.as_data_frame(use_multi_thread=True)\n",
      "\n",
      "  warnings.warn(\"Converting H2O frame to pandas dataframe using single-thread.  For faster conversion using\"\n"
     ]
    }
   ],
   "source": [
    "predictions = best_model.predict(test_data)\n",
    "predictions_df = predictions.as_data_frame()"
   ]
  },
  {
   "cell_type": "code",
   "execution_count": 17,
   "id": "3019264b",
   "metadata": {
    "execution": {
     "iopub.execute_input": "2024-09-25T03:26:11.330126Z",
     "iopub.status.busy": "2024-09-25T03:26:11.329586Z",
     "iopub.status.idle": "2024-09-25T03:26:11.338275Z",
     "shell.execute_reply": "2024-09-25T03:26:11.337132Z"
    },
    "papermill": {
     "duration": 0.037352,
     "end_time": "2024-09-25T03:26:11.341528",
     "exception": false,
     "start_time": "2024-09-25T03:26:11.304176",
     "status": "completed"
    },
    "tags": []
   },
   "outputs": [
    {
     "data": {
      "text/plain": [
       "(125690, 1)"
      ]
     },
     "execution_count": 17,
     "metadata": {},
     "output_type": "execute_result"
    }
   ],
   "source": [
    "predictions.shape"
   ]
  },
  {
   "cell_type": "code",
   "execution_count": 18,
   "id": "1281b751",
   "metadata": {
    "execution": {
     "iopub.execute_input": "2024-09-25T03:26:11.392606Z",
     "iopub.status.busy": "2024-09-25T03:26:11.391467Z",
     "iopub.status.idle": "2024-09-25T03:26:11.415762Z",
     "shell.execute_reply": "2024-09-25T03:26:11.414349Z"
    },
    "papermill": {
     "duration": 0.052582,
     "end_time": "2024-09-25T03:26:11.418723",
     "exception": false,
     "start_time": "2024-09-25T03:26:11.366141",
     "status": "completed"
    },
    "tags": []
   },
   "outputs": [
    {
     "data": {
      "text/html": [
       "<div>\n",
       "<style scoped>\n",
       "    .dataframe tbody tr th:only-of-type {\n",
       "        vertical-align: middle;\n",
       "    }\n",
       "\n",
       "    .dataframe tbody tr th {\n",
       "        vertical-align: top;\n",
       "    }\n",
       "\n",
       "    .dataframe thead th {\n",
       "        text-align: right;\n",
       "    }\n",
       "</style>\n",
       "<table border=\"1\" class=\"dataframe\">\n",
       "  <thead>\n",
       "    <tr style=\"text-align: right;\">\n",
       "      <th></th>\n",
       "      <th>predict</th>\n",
       "    </tr>\n",
       "  </thead>\n",
       "  <tbody>\n",
       "    <tr>\n",
       "      <th>0</th>\n",
       "      <td>16379.907164</td>\n",
       "    </tr>\n",
       "    <tr>\n",
       "      <th>1</th>\n",
       "      <td>79550.352629</td>\n",
       "    </tr>\n",
       "    <tr>\n",
       "      <th>2</th>\n",
       "      <td>53113.174976</td>\n",
       "    </tr>\n",
       "    <tr>\n",
       "      <th>3</th>\n",
       "      <td>25814.297781</td>\n",
       "    </tr>\n",
       "    <tr>\n",
       "      <th>4</th>\n",
       "      <td>29607.985382</td>\n",
       "    </tr>\n",
       "    <tr>\n",
       "      <th>...</th>\n",
       "      <td>...</td>\n",
       "    </tr>\n",
       "    <tr>\n",
       "      <th>125685</th>\n",
       "      <td>30154.490536</td>\n",
       "    </tr>\n",
       "    <tr>\n",
       "      <th>125686</th>\n",
       "      <td>50106.602321</td>\n",
       "    </tr>\n",
       "    <tr>\n",
       "      <th>125687</th>\n",
       "      <td>18385.553683</td>\n",
       "    </tr>\n",
       "    <tr>\n",
       "      <th>125688</th>\n",
       "      <td>14129.881618</td>\n",
       "    </tr>\n",
       "    <tr>\n",
       "      <th>125689</th>\n",
       "      <td>36458.587000</td>\n",
       "    </tr>\n",
       "  </tbody>\n",
       "</table>\n",
       "<p>125690 rows × 1 columns</p>\n",
       "</div>"
      ],
      "text/plain": [
       "             predict\n",
       "0       16379.907164\n",
       "1       79550.352629\n",
       "2       53113.174976\n",
       "3       25814.297781\n",
       "4       29607.985382\n",
       "...              ...\n",
       "125685  30154.490536\n",
       "125686  50106.602321\n",
       "125687  18385.553683\n",
       "125688  14129.881618\n",
       "125689  36458.587000\n",
       "\n",
       "[125690 rows x 1 columns]"
      ]
     },
     "execution_count": 18,
     "metadata": {},
     "output_type": "execute_result"
    }
   ],
   "source": [
    "predictions_df"
   ]
  },
  {
   "cell_type": "code",
   "execution_count": 19,
   "id": "f2e5e44b",
   "metadata": {
    "execution": {
     "iopub.execute_input": "2024-09-25T03:26:11.469324Z",
     "iopub.status.busy": "2024-09-25T03:26:11.468797Z",
     "iopub.status.idle": "2024-09-25T03:26:11.476673Z",
     "shell.execute_reply": "2024-09-25T03:26:11.475142Z"
    },
    "papermill": {
     "duration": 0.036869,
     "end_time": "2024-09-25T03:26:11.479573",
     "exception": false,
     "start_time": "2024-09-25T03:26:11.442704",
     "status": "completed"
    },
    "tags": []
   },
   "outputs": [],
   "source": [
    "sub_df['price'] =(predictions_df['predict'].values)"
   ]
  },
  {
   "cell_type": "code",
   "execution_count": 20,
   "id": "5de0612a",
   "metadata": {
    "execution": {
     "iopub.execute_input": "2024-09-25T03:26:11.532322Z",
     "iopub.status.busy": "2024-09-25T03:26:11.531784Z",
     "iopub.status.idle": "2024-09-25T03:26:11.947682Z",
     "shell.execute_reply": "2024-09-25T03:26:11.946367Z"
    },
    "papermill": {
     "duration": 0.44653,
     "end_time": "2024-09-25T03:26:11.950786",
     "exception": false,
     "start_time": "2024-09-25T03:26:11.504256",
     "status": "completed"
    },
    "tags": []
   },
   "outputs": [],
   "source": [
    "sub_df.to_csv('submission.csv', index=False)"
   ]
  },
  {
   "cell_type": "code",
   "execution_count": 21,
   "id": "512370c1",
   "metadata": {
    "execution": {
     "iopub.execute_input": "2024-09-25T03:26:12.001967Z",
     "iopub.status.busy": "2024-09-25T03:26:12.001443Z",
     "iopub.status.idle": "2024-09-25T03:26:13.201055Z",
     "shell.execute_reply": "2024-09-25T03:26:13.199459Z"
    },
    "papermill": {
     "duration": 1.228784,
     "end_time": "2024-09-25T03:26:13.204535",
     "exception": false,
     "start_time": "2024-09-25T03:26:11.975751",
     "status": "completed"
    },
    "tags": []
   },
   "outputs": [
    {
     "name": "stdout",
     "output_type": "stream",
     "text": [
      "__notebook__.ipynb  submission.csv\r\n"
     ]
    }
   ],
   "source": [
    "!ls"
   ]
  },
  {
   "cell_type": "code",
   "execution_count": 22,
   "id": "58b990e5",
   "metadata": {
    "execution": {
     "iopub.execute_input": "2024-09-25T03:26:13.257481Z",
     "iopub.status.busy": "2024-09-25T03:26:13.256333Z",
     "iopub.status.idle": "2024-09-25T03:26:13.262384Z",
     "shell.execute_reply": "2024-09-25T03:26:13.261138Z"
    },
    "papermill": {
     "duration": 0.036324,
     "end_time": "2024-09-25T03:26:13.265204",
     "exception": false,
     "start_time": "2024-09-25T03:26:13.228880",
     "status": "completed"
    },
    "tags": []
   },
   "outputs": [],
   "source": [
    "#aml = H2OAutoML(max_runtime_secs=3600,seed=42)\n",
    "#aml = H2OAutoML(max_runtime_secs=900,seed=42)\n",
    "#aml = H2OAutoML(max_runtime_secs=3600, seed=42, sort_metric=\"RMSE\")\n",
    "#aml.train(y='price', training_frame=train_data)"
   ]
  }
 ],
 "metadata": {
  "kaggle": {
   "accelerator": "none",
   "dataSources": [
    {
     "databundleVersionId": 9057646,
     "sourceId": 76728,
     "sourceType": "competition"
    }
   ],
   "dockerImageVersionId": 30761,
   "isGpuEnabled": false,
   "isInternetEnabled": true,
   "language": "python",
   "sourceType": "notebook"
  },
  "kernelspec": {
   "display_name": "Python 3",
   "language": "python",
   "name": "python3"
  },
  "language_info": {
   "codemirror_mode": {
    "name": "ipython",
    "version": 3
   },
   "file_extension": ".py",
   "mimetype": "text/x-python",
   "name": "python",
   "nbconvert_exporter": "python",
   "pygments_lexer": "ipython3",
   "version": "3.10.14"
  },
  "papermill": {
   "default_parameters": {},
   "duration": 37649.394954,
   "end_time": "2024-09-25T03:26:15.622086",
   "environment_variables": {},
   "exception": null,
   "input_path": "__notebook__.ipynb",
   "output_path": "__notebook__.ipynb",
   "parameters": {},
   "start_time": "2024-09-24T16:58:46.227132",
   "version": "2.6.0"
  }
 },
 "nbformat": 4,
 "nbformat_minor": 5
}
